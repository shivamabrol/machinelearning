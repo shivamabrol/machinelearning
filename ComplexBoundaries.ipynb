{
 "cells": [
  {
   "cell_type": "markdown",
   "metadata": {},
   "source": [
    "# Complex Boundaries\n",
    "Given linear regression can only find linear relations in order to find more complex boundaries I'm taking combinations of the columns in the given dataset. Increasing the no. of columns by cross multiplying them will increase the complexity of the model and I'll see the effects it has on the training and test scores. Training score is likely to increase because of overfitting and test score will decrease "
   ]
  },
  {
   "cell_type": "code",
   "execution_count": 45,
   "metadata": {},
   "outputs": [],
   "source": [
    "from sklearn import datasets"
   ]
  },
  {
   "cell_type": "code",
   "execution_count": 46,
   "metadata": {},
   "outputs": [],
   "source": [
    "boston = datasets.load_boston()\n",
    "X = boston.data\n",
    "Y = boston.target"
   ]
  },
  {
   "cell_type": "code",
   "execution_count": 47,
   "metadata": {},
   "outputs": [
    {
     "data": {
      "text/plain": [
       "(506, 13)"
      ]
     },
     "execution_count": 47,
     "metadata": {},
     "output_type": "execute_result"
    }
   ],
   "source": [
    "X.shape"
   ]
  },
  {
   "cell_type": "code",
   "execution_count": 51,
   "metadata": {},
   "outputs": [
    {
     "name": "stdout",
     "output_type": "stream",
     "text": [
      "['CRIM' 'ZN' 'INDUS' 'CHAS' 'NOX' 'RM' 'AGE' 'DIS' 'RAD' 'TAX' 'PTRATIO'\n",
      " 'B' 'LSTAT']\n"
     ]
    },
    {
     "data": {
      "text/plain": [
       "(506, 13)"
      ]
     },
     "execution_count": 51,
     "metadata": {},
     "output_type": "execute_result"
    }
   ],
   "source": [
    "import pandas as pd\n",
    "df = pd.DataFrame(X)\n",
    "print(boston.feature_names)\n",
    "df.columns = boston.feature_names\n",
    "df.describe()\n",
    "X2 = df.values\n",
    "X2.shape"
   ]
  },
  {
   "cell_type": "code",
   "execution_count": 52,
   "metadata": {},
   "outputs": [
    {
     "data": {
      "text/plain": [
       "13"
      ]
     },
     "execution_count": 52,
     "metadata": {},
     "output_type": "execute_result"
    }
   ],
   "source": [
    "len(df.columns)\n"
   ]
  },
  {
   "cell_type": "code",
   "execution_count": 53,
   "metadata": {},
   "outputs": [
    {
     "name": "stdout",
     "output_type": "stream",
     "text": [
      "0 0\n",
      "CRIM_CRIM\n",
      "0 1\n",
      "CRIM_ZN\n",
      "0 2\n",
      "CRIM_INDUS\n",
      "0 3\n",
      "CRIM_CHAS\n",
      "0 4\n",
      "CRIM_NOX\n",
      "0 5\n",
      "CRIM_RM\n",
      "0 6\n",
      "CRIM_AGE\n",
      "0 7\n",
      "CRIM_DIS\n",
      "0 8\n",
      "CRIM_RAD\n",
      "0 9\n",
      "CRIM_TAX\n",
      "0 10\n",
      "CRIM_PTRATIO\n",
      "0 11\n",
      "CRIM_B\n",
      "0 12\n",
      "CRIM_LSTAT\n",
      "1 1\n",
      "ZN_ZN\n",
      "1 2\n",
      "ZN_INDUS\n",
      "1 3\n",
      "ZN_CHAS\n",
      "1 4\n",
      "ZN_NOX\n",
      "1 5\n",
      "ZN_RM\n",
      "1 6\n",
      "ZN_AGE\n",
      "1 7\n",
      "ZN_DIS\n",
      "1 8\n",
      "ZN_RAD\n",
      "1 9\n",
      "ZN_TAX\n",
      "1 10\n",
      "ZN_PTRATIO\n",
      "1 11\n",
      "ZN_B\n",
      "1 12\n",
      "ZN_LSTAT\n",
      "2 2\n",
      "INDUS_INDUS\n",
      "2 3\n",
      "INDUS_CHAS\n",
      "2 4\n",
      "INDUS_NOX\n",
      "2 5\n",
      "INDUS_RM\n",
      "2 6\n",
      "INDUS_AGE\n",
      "2 7\n",
      "INDUS_DIS\n",
      "2 8\n",
      "INDUS_RAD\n",
      "2 9\n",
      "INDUS_TAX\n",
      "2 10\n",
      "INDUS_PTRATIO\n",
      "2 11\n",
      "INDUS_B\n",
      "2 12\n",
      "INDUS_LSTAT\n",
      "3 3\n",
      "CHAS_CHAS\n",
      "3 4\n",
      "CHAS_NOX\n",
      "3 5\n",
      "CHAS_RM\n",
      "3 6\n",
      "CHAS_AGE\n",
      "3 7\n",
      "CHAS_DIS\n",
      "3 8\n",
      "CHAS_RAD\n",
      "3 9\n",
      "CHAS_TAX\n",
      "3 10\n",
      "CHAS_PTRATIO\n",
      "3 11\n",
      "CHAS_B\n",
      "3 12\n",
      "CHAS_LSTAT\n",
      "4 4\n",
      "NOX_NOX\n",
      "4 5\n",
      "NOX_RM\n",
      "4 6\n",
      "NOX_AGE\n",
      "4 7\n",
      "NOX_DIS\n",
      "4 8\n",
      "NOX_RAD\n",
      "4 9\n",
      "NOX_TAX\n",
      "4 10\n",
      "NOX_PTRATIO\n",
      "4 11\n",
      "NOX_B\n",
      "4 12\n",
      "NOX_LSTAT\n",
      "5 5\n",
      "RM_RM\n",
      "5 6\n",
      "RM_AGE\n",
      "5 7\n",
      "RM_DIS\n",
      "5 8\n",
      "RM_RAD\n",
      "5 9\n",
      "RM_TAX\n",
      "5 10\n",
      "RM_PTRATIO\n",
      "5 11\n",
      "RM_B\n",
      "5 12\n",
      "RM_LSTAT\n",
      "6 6\n",
      "AGE_AGE\n",
      "6 7\n",
      "AGE_DIS\n",
      "6 8\n",
      "AGE_RAD\n",
      "6 9\n",
      "AGE_TAX\n",
      "6 10\n",
      "AGE_PTRATIO\n",
      "6 11\n",
      "AGE_B\n",
      "6 12\n",
      "AGE_LSTAT\n",
      "7 7\n",
      "DIS_DIS\n",
      "7 8\n",
      "DIS_RAD\n",
      "7 9\n",
      "DIS_TAX\n",
      "7 10\n",
      "DIS_PTRATIO\n",
      "7 11\n",
      "DIS_B\n",
      "7 12\n",
      "DIS_LSTAT\n",
      "8 8\n",
      "RAD_RAD\n",
      "8 9\n",
      "RAD_TAX\n",
      "8 10\n",
      "RAD_PTRATIO\n",
      "8 11\n",
      "RAD_B\n",
      "8 12\n",
      "RAD_LSTAT\n",
      "9 9\n",
      "TAX_TAX\n",
      "9 10\n",
      "TAX_PTRATIO\n",
      "9 11\n",
      "TAX_B\n",
      "9 12\n",
      "TAX_LSTAT\n",
      "10 10\n",
      "PTRATIO_PTRATIO\n",
      "10 11\n",
      "PTRATIO_B\n",
      "10 12\n",
      "PTRATIO_LSTAT\n",
      "11 11\n",
      "B_B\n",
      "11 12\n",
      "B_LSTAT\n",
      "12 12\n",
      "LSTAT_LSTAT\n"
     ]
    }
   ],
   "source": [
    "#for every column I'll be multiplying it with every other column to add extra features but since we're only selecting the values\n",
    "# and the order doesn't matter so I'll have to modify the loop a little to avoid repetitions\n",
    "column_count = len(df.columns)\n",
    "for count in range(column_count):\n",
    "    for count2 in range(count, column_count):\n",
    "        df[df.columns[count] + '_' + df.columns[count2]] = df[df.columns[count]] * df[df.columns[count2]]\n",
    "        print(count, count2)\n",
    "        print(df.columns[count] + '_' + df.columns[count2])\n"
   ]
  },
  {
   "cell_type": "code",
   "execution_count": 60,
   "metadata": {},
   "outputs": [],
   "source": [
    "X2 = df.values"
   ]
  },
  {
   "cell_type": "code",
   "execution_count": 64,
   "metadata": {},
   "outputs": [],
   "source": [
    "from sklearn import model_selection\n",
    "X_train, X_test, Y_train, Y_test = model_selection.train_test_split(X, Y, random_state = 0)\n",
    "X2_train, X2_test, Y2_train, Y2_test = model_selection.train_test_split(X2, Y, random_state = 0)"
   ]
  },
  {
   "cell_type": "code",
   "execution_count": 65,
   "metadata": {},
   "outputs": [],
   "source": [
    "from sklearn.linear_model import LinearRegression\n",
    "alg1 = LinearRegression()\n",
    "alg2 = LinearRegression()"
   ]
  },
  {
   "cell_type": "code",
   "execution_count": 66,
   "metadata": {},
   "outputs": [
    {
     "data": {
      "text/plain": [
       "LinearRegression()"
      ]
     },
     "execution_count": 66,
     "metadata": {},
     "output_type": "execute_result"
    }
   ],
   "source": [
    "alg1.fit(X_train, Y_train)\n",
    "alg2.fit(X2_train, Y2_train)"
   ]
  },
  {
   "cell_type": "code",
   "execution_count": 67,
   "metadata": {},
   "outputs": [
    {
     "name": "stdout",
     "output_type": "stream",
     "text": [
      "Train Score:  0.7697699488741149\n",
      "Test Score:  0.6354638433202128\n",
      "Train2 Score:  0.9520519609032729\n",
      "Test2 Score:  0.6074721959689757\n"
     ]
    }
   ],
   "source": [
    "Y_pred = alg1.predict(X_test)\n",
    "train_score = alg1.score(X_train, Y_train)\n",
    "test_score = alg1.score(X_test, Y_test)\n",
    "print(\"Train Score: \", train_score)\n",
    "print(\"Test Score: \", test_score)\n",
    "\n",
    "train2_score = alg2.score(X2_train, Y2_train)\n",
    "test2_score = alg2.score(X2_test, Y2_test)\n",
    "print(\"Train2 Score: \", train2_score)\n",
    "print(\"Test2 Score: \", test2_score)"
   ]
  },
  {
   "cell_type": "code",
   "execution_count": null,
   "metadata": {},
   "outputs": [],
   "source": []
  }
 ],
 "metadata": {
  "kernelspec": {
   "display_name": "Python 3",
   "language": "python",
   "name": "python3"
  },
  "language_info": {
   "codemirror_mode": {
    "name": "ipython",
    "version": 3
   },
   "file_extension": ".py",
   "mimetype": "text/x-python",
   "name": "python",
   "nbconvert_exporter": "python",
   "pygments_lexer": "ipython3",
   "version": "3.8.3"
  }
 },
 "nbformat": 4,
 "nbformat_minor": 2
}
