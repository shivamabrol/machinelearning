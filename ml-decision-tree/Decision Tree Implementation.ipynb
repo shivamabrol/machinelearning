{
 "cells": [
  {
   "cell_type": "code",
   "execution_count": 1,
   "metadata": {},
   "outputs": [],
   "source": [
    "#Here, we will take an example of binary tree i.e. each node can have maximum two children nodes (left child and right child)\n",
    "#and the data for that node\n",
    "class Node:\n",
    "    #constructor to declare and initialize node properties\n",
    "        def __init__(self, data):\n",
    "            self.data = data\n",
    "            self.left = None\n",
    "            self.right = None\n",
    "        #Say, we have a root node containing a list of numbers and we want to keep on splitting the list around mid index\n",
    "        #until we reach the leaf node\n",
    "        #For this, let's create a recursive function, which will take a list of numbers and return the root node of the tree\n",
    "def build_tree_example(data):\n",
    "    #base case\n",
    "    if len(data) == 1:\n",
    "        #only one number in the list so make a node having no children and return it\n",
    "        return Node(data)\n",
    "    #otherwise, make two lists of data for left branch and right branch by splitting around mid index\n",
    "    mid_index = len(data) // 2\n",
    "    data_left = data[0: mid_index]\n",
    "    data_right = data[mid_index:]\n",
    "    #create root node with the data list\n",
    "    root = Node(data)\n",
    "    #recursively build the left subtree and right subtree\n",
    "    root.left = build_tree_example(data_left)\n",
    "    root.right = build_tree_example(data_right)\n",
    "    #return root node of the tree\n",
    "    return root\n",
    "        #function to print the tree recursively\n",
    "def print_tree(root):\n",
    "    #check if root is empty\n",
    "    if root == None:\n",
    "        return\n",
    "    #check if it's a leaf node\n",
    "    if root.left == None and root.right == None:\n",
    "        print(root.data)\n",
    "        return\n",
    "    #otherwise, print the root node data and recursively call print function on left and right child\n",
    "    print(root.data)\n",
    "    print_tree(root.left)\n",
    "    print_tree(root.right)\n",
    "\n"
   ]
  },
  {
   "cell_type": "code",
   "execution_count": 2,
   "metadata": {},
   "outputs": [],
   "source": [
    "#let's test it\n",
    "data = [2, 3, 1, 4, 8, 7, 6, 10]\n",
    "root = build_tree_example(data)\n",
    "# print_tree(root)\n",
    "# data = np.concatenate((data.data, data.target.reshape(-1, 1)), axis = 1)"
   ]
  },
  {
   "cell_type": "code",
   "execution_count": null,
   "metadata": {},
   "outputs": [],
   "source": []
  },
  {
   "cell_type": "code",
   "execution_count": 3,
   "metadata": {},
   "outputs": [],
   "source": [
    "def class_counts(rows):\n",
    "    \"\"\"\n",
    " This function will take some rows of dataset and\n",
    " will return a dictionary mapping each label with number of rows for that label\n",
    " \"\"\"\n",
    "    label_dict = {}\n",
    "    labels = set(data[: , -1])\n",
    "    for label in labels:\n",
    "        label_dict[label] = (data[: , -1] == label).sum()\n",
    "        \n",
    "    return label_dict\n"
   ]
  },
  {
   "cell_type": "code",
   "execution_count": 4,
   "metadata": {},
   "outputs": [
    {
     "data": {
      "text/plain": [
       "[2, 3, 1, 4, 8, 7, 6, 10]"
      ]
     },
     "execution_count": 4,
     "metadata": {},
     "output_type": "execute_result"
    }
   ],
   "source": [
    "data"
   ]
  },
  {
   "cell_type": "code",
   "execution_count": 5,
   "metadata": {},
   "outputs": [],
   "source": [
    "class Question:\n",
    "    \"\"\"\n",
    " This class will help in creating Question objects having two properties:\n",
    " (i) column/feature and (ii) value for that feature.\n",
    " we can have a method in this class to check whether given example matches the value for the feature in this Question\n",
    "or not.\n",
    " It will be useful in partitioning the data based on a particular value for a particular feature/column.\n",
    " \"\"\"\n",
    "    def __init__(self, feature, value):\n",
    "        self.feature = feature\n",
    "        self.value = value\n",
    "    \n",
    "    def match_feature_value(self, data, feature):\n",
    "        if (data[feature] == self.value):\n",
    "            return True\n",
    "        return False\n"
   ]
  },
  {
   "cell_type": "code",
   "execution_count": 6,
   "metadata": {},
   "outputs": [],
   "source": [
    "def partition(rows, question: Question):\n",
    "    feature_match_list = []\n",
    "    feature_not_match_list = []\n",
    "    \n",
    "    for example in rows:\n",
    "        if(question.match_feature_value(example, question.feature)):\n",
    "            feature_match_list.append(example)\n",
    "        else:\n",
    "            feature_not_match_list.append(example)\n",
    "        \"\"\"\n",
    " This function takes list of rows (examples) and after checking for each example, whether it matches the feature value in\n",
    " question or not, it will return two separate list of rows\n",
    " \"\"\"\n",
    "    return feature_match_list, feature_not_match_list"
   ]
  },
  {
   "cell_type": "code",
   "execution_count": 65,
   "metadata": {},
   "outputs": [],
   "source": [
    "def entropy(rows):\n",
    "    \"\"\"\n",
    " This function will take some rows of the dataset and return the entropy of these set of rows.\n",
    " It will be used in calculating the info gain for a split based on a question.\n",
    " \"\"\"\n",
    "    split_count = []\n",
    "    print(len(rows))\n",
    "    if(len(rows) == 0):\n",
    "        return 0\n",
    "    try:\n",
    "        unique_elements = list(set(rows[: , -1]))\n",
    "    except TypeError as err:\n",
    "        print(len(rows))\n",
    "    for x in unique_elements:\n",
    "        split_count.append((rows[: , -1] == x).sum())\n",
    "    total_pro = np.array(split_count).sum()\n",
    "    probaility = 0\n",
    "    for i in split_count:\n",
    "        prob_i = (i/total_pro)*np.log(i/total_pro)\n",
    "        probaility += prob_i\n",
    "    return probaility"
   ]
  },
  {
   "cell_type": "code",
   "execution_count": 45,
   "metadata": {},
   "outputs": [],
   "source": [
    "def info_gain(true_rows, false_rows, current_entropy):\n",
    "    \"\"\"\"   \n",
    "    This function will take the current entropy of the dataset and two different sets of rows after split\n",
    "    It will calculate the entropy for these two set of rows using entropy function above\n",
    "    and will return the info gain for that split\n",
    "    It will be useful in finding the best split for dataset/ given rows.\n",
    "\"\"\"\n",
    "    total_count = len(true_rows) + len(false_rows)\n",
    "    print(true_rows)\n",
    "    true_row_entropy = entropy(true_rows)\n",
    "    false_row_entropy = entropy(false_rows)\n",
    "    info_gain = current_entropy - ((len(true_rows)/total_count)*true_row_entropy + \n",
    "                                   (len(false_rows)/total_count)*false_row_entropy)\n",
    "    return info_gain"
   ]
  },
  {
   "cell_type": "code",
   "execution_count": 9,
   "metadata": {},
   "outputs": [],
   "source": [
    "def find_best_split(rows):\n",
    "    \"\"\"\n",
    " This function will take a set of examples i.e. rows as input\n",
    " and return the max info gain and corresponding question.\n",
    " \"\"\"\n",
    "    #Iterate over each column\n",
    "    #Iterate over each of the unique values fo the column\n",
    "    #find and return the max gain and best question\n",
    "    first_turn = True\n",
    "    current_entropy = entropy(rows)\n",
    "    max_gain = -1\n",
    "    question = Question(-1, -1)\n",
    "    features = rows.shape[1]\n",
    "    for feature in range(features):\n",
    "        feature_unique_values = set(rows[feature])\n",
    "        for unique_feature in feature_unique_values:\n",
    "            true_rows, false_rows = partition(rows, question)\n",
    "            gain_value = info_gain(true_rows, false_rows, current_entropy)\n",
    "            if(first_turn or gain_value > max_gain):\n",
    "                max_gain = gain_value\n",
    "                question.feature = feature\n",
    "                question.value = unique_feature\n",
    "    return max_info, question"
   ]
  },
  {
   "cell_type": "code",
   "execution_count": 10,
   "metadata": {},
   "outputs": [],
   "source": [
    "class Decision_Node:\n",
    "    \"\"\"\n",
    " It will have three properties\n",
    " (i) question\n",
    " (ii) child node representing true branch\n",
    " (iii) child node representing false branch\n",
    " \"\"\"    \n",
    "    def __init__(self, rows, true_branch, false_branch):\n",
    "        self.question = question\n",
    "        self.true_branch, self.false_branch = partition(rows, question)\n"
   ]
  },
  {
   "cell_type": "code",
   "execution_count": 11,
   "metadata": {},
   "outputs": [],
   "source": [
    "class Leaf:\n",
    "    \"\"\"\n",
    " Unlike Decision Node, it just gives label for the example that reaches this leaf node.\n",
    " It just holds a dictionary mapping as obtained from class_counts function above for given set of rows.\n",
    " \"\"\"\n",
    "    \n"
   ]
  },
  {
   "cell_type": "code",
   "execution_count": 12,
   "metadata": {},
   "outputs": [],
   "source": [
    "def build_tree(rows):\n",
    "    \"\"\"\n",
    " This function will build the tree recursively and return the root node of the tree\n",
    " \"\"\"\n",
    "    #find gain and question using find_best_split function\n",
    "    max_info, question = find_best_split(rows)\n",
    "    print(max_info, question)\n",
    "    #check for base case i.e. no further split is possible (gain = 0), then return Leaf\n",
    "    #otherwise\n",
    "    #do the partition using partition function above and get two list of rows say true_rows and false_rows\n",
    "    #Build true_branch and false_branch by recursively calling on true_rows and false_rows\n",
    "    #return the Decision Node with question, true_branch and false_branch\n",
    "    "
   ]
  },
  {
   "cell_type": "code",
   "execution_count": 66,
   "metadata": {},
   "outputs": [
    {
     "name": "stdout",
     "output_type": "stream",
     "text": [
      "150\n",
      "[]\n",
      "0\n",
      "150\n",
      "150\n"
     ]
    },
    {
     "ename": "UnboundLocalError",
     "evalue": "local variable 'unique_elements' referenced before assignment",
     "output_type": "error",
     "traceback": [
      "\u001b[1;31m---------------------------------------------------------------------------\u001b[0m",
      "\u001b[1;31mUnboundLocalError\u001b[0m                         Traceback (most recent call last)",
      "\u001b[1;32m<ipython-input-66-9c4178e12744>\u001b[0m in \u001b[0;36m<module>\u001b[1;34m\u001b[0m\n\u001b[0;32m      3\u001b[0m \u001b[0mY\u001b[0m \u001b[1;33m=\u001b[0m \u001b[0mdata\u001b[0m\u001b[1;33m.\u001b[0m\u001b[0mtarget\u001b[0m\u001b[1;33m\u001b[0m\u001b[1;33m\u001b[0m\u001b[0m\n\u001b[0;32m      4\u001b[0m \u001b[0mrows\u001b[0m \u001b[1;33m=\u001b[0m \u001b[0mnp\u001b[0m\u001b[1;33m.\u001b[0m\u001b[0mconcatenate\u001b[0m\u001b[1;33m(\u001b[0m\u001b[1;33m(\u001b[0m\u001b[0mX\u001b[0m\u001b[1;33m,\u001b[0m \u001b[0mY\u001b[0m\u001b[1;33m.\u001b[0m\u001b[0mreshape\u001b[0m\u001b[1;33m(\u001b[0m\u001b[1;33m-\u001b[0m\u001b[1;36m1\u001b[0m\u001b[1;33m,\u001b[0m \u001b[1;36m1\u001b[0m\u001b[1;33m)\u001b[0m\u001b[1;33m)\u001b[0m\u001b[1;33m,\u001b[0m \u001b[0maxis\u001b[0m \u001b[1;33m=\u001b[0m \u001b[1;36m1\u001b[0m\u001b[1;33m)\u001b[0m\u001b[1;33m\u001b[0m\u001b[1;33m\u001b[0m\u001b[0m\n\u001b[1;32m----> 5\u001b[1;33m \u001b[0mbuild_tree\u001b[0m\u001b[1;33m(\u001b[0m\u001b[0mrows\u001b[0m\u001b[1;33m)\u001b[0m\u001b[1;33m\u001b[0m\u001b[1;33m\u001b[0m\u001b[0m\n\u001b[0m",
      "\u001b[1;32m<ipython-input-12-fd5774289ea7>\u001b[0m in \u001b[0;36mbuild_tree\u001b[1;34m(rows)\u001b[0m\n\u001b[0;32m      4\u001b[0m  \"\"\"\n\u001b[0;32m      5\u001b[0m     \u001b[1;31m#find gain and question using find_best_split function\u001b[0m\u001b[1;33m\u001b[0m\u001b[1;33m\u001b[0m\u001b[1;33m\u001b[0m\u001b[0m\n\u001b[1;32m----> 6\u001b[1;33m     \u001b[0mmax_info\u001b[0m\u001b[1;33m,\u001b[0m \u001b[0mquestion\u001b[0m \u001b[1;33m=\u001b[0m \u001b[0mfind_best_split\u001b[0m\u001b[1;33m(\u001b[0m\u001b[0mrows\u001b[0m\u001b[1;33m)\u001b[0m\u001b[1;33m\u001b[0m\u001b[1;33m\u001b[0m\u001b[0m\n\u001b[0m\u001b[0;32m      7\u001b[0m     \u001b[0mprint\u001b[0m\u001b[1;33m(\u001b[0m\u001b[0mmax_info\u001b[0m\u001b[1;33m,\u001b[0m \u001b[0mquestion\u001b[0m\u001b[1;33m)\u001b[0m\u001b[1;33m\u001b[0m\u001b[1;33m\u001b[0m\u001b[0m\n\u001b[0;32m      8\u001b[0m     \u001b[1;31m#check for base case i.e. no further split is possible (gain = 0), then return Leaf\u001b[0m\u001b[1;33m\u001b[0m\u001b[1;33m\u001b[0m\u001b[1;33m\u001b[0m\u001b[0m\n",
      "\u001b[1;32m<ipython-input-9-cb963dbdd5ed>\u001b[0m in \u001b[0;36mfind_best_split\u001b[1;34m(rows)\u001b[0m\n\u001b[0;32m     16\u001b[0m         \u001b[1;32mfor\u001b[0m \u001b[0munique_feature\u001b[0m \u001b[1;32min\u001b[0m \u001b[0mfeature_unique_values\u001b[0m\u001b[1;33m:\u001b[0m\u001b[1;33m\u001b[0m\u001b[1;33m\u001b[0m\u001b[0m\n\u001b[0;32m     17\u001b[0m             \u001b[0mtrue_rows\u001b[0m\u001b[1;33m,\u001b[0m \u001b[0mfalse_rows\u001b[0m \u001b[1;33m=\u001b[0m \u001b[0mpartition\u001b[0m\u001b[1;33m(\u001b[0m\u001b[0mrows\u001b[0m\u001b[1;33m,\u001b[0m \u001b[0mquestion\u001b[0m\u001b[1;33m)\u001b[0m\u001b[1;33m\u001b[0m\u001b[1;33m\u001b[0m\u001b[0m\n\u001b[1;32m---> 18\u001b[1;33m             \u001b[0mgain_value\u001b[0m \u001b[1;33m=\u001b[0m \u001b[0minfo_gain\u001b[0m\u001b[1;33m(\u001b[0m\u001b[0mtrue_rows\u001b[0m\u001b[1;33m,\u001b[0m \u001b[0mfalse_rows\u001b[0m\u001b[1;33m,\u001b[0m \u001b[0mcurrent_entropy\u001b[0m\u001b[1;33m)\u001b[0m\u001b[1;33m\u001b[0m\u001b[1;33m\u001b[0m\u001b[0m\n\u001b[0m\u001b[0;32m     19\u001b[0m             \u001b[1;32mif\u001b[0m\u001b[1;33m(\u001b[0m\u001b[0mfirst_turn\u001b[0m \u001b[1;32mor\u001b[0m \u001b[0mgain_value\u001b[0m \u001b[1;33m>\u001b[0m \u001b[0mmax_gain\u001b[0m\u001b[1;33m)\u001b[0m\u001b[1;33m:\u001b[0m\u001b[1;33m\u001b[0m\u001b[1;33m\u001b[0m\u001b[0m\n\u001b[0;32m     20\u001b[0m                 \u001b[0mmax_gain\u001b[0m \u001b[1;33m=\u001b[0m \u001b[0mgain_value\u001b[0m\u001b[1;33m\u001b[0m\u001b[1;33m\u001b[0m\u001b[0m\n",
      "\u001b[1;32m<ipython-input-45-6d19b10842a9>\u001b[0m in \u001b[0;36minfo_gain\u001b[1;34m(true_rows, false_rows, current_entropy)\u001b[0m\n\u001b[0;32m      9\u001b[0m     \u001b[0mprint\u001b[0m\u001b[1;33m(\u001b[0m\u001b[0mtrue_rows\u001b[0m\u001b[1;33m)\u001b[0m\u001b[1;33m\u001b[0m\u001b[1;33m\u001b[0m\u001b[0m\n\u001b[0;32m     10\u001b[0m     \u001b[0mtrue_row_entropy\u001b[0m \u001b[1;33m=\u001b[0m \u001b[0mentropy\u001b[0m\u001b[1;33m(\u001b[0m\u001b[0mtrue_rows\u001b[0m\u001b[1;33m)\u001b[0m\u001b[1;33m\u001b[0m\u001b[1;33m\u001b[0m\u001b[0m\n\u001b[1;32m---> 11\u001b[1;33m     \u001b[0mfalse_row_entropy\u001b[0m \u001b[1;33m=\u001b[0m \u001b[0mentropy\u001b[0m\u001b[1;33m(\u001b[0m\u001b[0mfalse_rows\u001b[0m\u001b[1;33m)\u001b[0m\u001b[1;33m\u001b[0m\u001b[1;33m\u001b[0m\u001b[0m\n\u001b[0m\u001b[0;32m     12\u001b[0m     info_gain = current_entropy - ((len(true_rows)/total_count)*true_row_entropy + \n\u001b[0;32m     13\u001b[0m                                    (len(false_rows)/total_count)*false_row_entropy)\n",
      "\u001b[1;32m<ipython-input-65-b440b38afc3f>\u001b[0m in \u001b[0;36mentropy\u001b[1;34m(rows)\u001b[0m\n\u001b[0;32m     12\u001b[0m     \u001b[1;32mexcept\u001b[0m \u001b[0mTypeError\u001b[0m \u001b[1;32mas\u001b[0m \u001b[0merr\u001b[0m\u001b[1;33m:\u001b[0m\u001b[1;33m\u001b[0m\u001b[1;33m\u001b[0m\u001b[0m\n\u001b[0;32m     13\u001b[0m         \u001b[0mprint\u001b[0m\u001b[1;33m(\u001b[0m\u001b[0mlen\u001b[0m\u001b[1;33m(\u001b[0m\u001b[0mrows\u001b[0m\u001b[1;33m)\u001b[0m\u001b[1;33m)\u001b[0m\u001b[1;33m\u001b[0m\u001b[1;33m\u001b[0m\u001b[0m\n\u001b[1;32m---> 14\u001b[1;33m     \u001b[1;32mfor\u001b[0m \u001b[0mx\u001b[0m \u001b[1;32min\u001b[0m \u001b[0munique_elements\u001b[0m\u001b[1;33m:\u001b[0m\u001b[1;33m\u001b[0m\u001b[1;33m\u001b[0m\u001b[0m\n\u001b[0m\u001b[0;32m     15\u001b[0m         \u001b[0msplit_count\u001b[0m\u001b[1;33m.\u001b[0m\u001b[0mappend\u001b[0m\u001b[1;33m(\u001b[0m\u001b[1;33m(\u001b[0m\u001b[0mrows\u001b[0m\u001b[1;33m[\u001b[0m\u001b[1;33m:\u001b[0m \u001b[1;33m,\u001b[0m \u001b[1;33m-\u001b[0m\u001b[1;36m1\u001b[0m\u001b[1;33m]\u001b[0m \u001b[1;33m==\u001b[0m \u001b[0mx\u001b[0m\u001b[1;33m)\u001b[0m\u001b[1;33m.\u001b[0m\u001b[0msum\u001b[0m\u001b[1;33m(\u001b[0m\u001b[1;33m)\u001b[0m\u001b[1;33m)\u001b[0m\u001b[1;33m\u001b[0m\u001b[1;33m\u001b[0m\u001b[0m\n\u001b[0;32m     16\u001b[0m     \u001b[0mtotal_pro\u001b[0m \u001b[1;33m=\u001b[0m \u001b[0mnp\u001b[0m\u001b[1;33m.\u001b[0m\u001b[0marray\u001b[0m\u001b[1;33m(\u001b[0m\u001b[0msplit_count\u001b[0m\u001b[1;33m)\u001b[0m\u001b[1;33m.\u001b[0m\u001b[0msum\u001b[0m\u001b[1;33m(\u001b[0m\u001b[1;33m)\u001b[0m\u001b[1;33m\u001b[0m\u001b[1;33m\u001b[0m\u001b[0m\n",
      "\u001b[1;31mUnboundLocalError\u001b[0m: local variable 'unique_elements' referenced before assignment"
     ]
    }
   ],
   "source": [
    "data = load_iris()\n",
    "X = data.data\n",
    "Y = data.target\n",
    "rows = np.concatenate((X, Y.reshape(-1, 1)), axis = 1)\n",
    "build_tree(rows)"
   ]
  },
  {
   "cell_type": "code",
   "execution_count": 17,
   "metadata": {},
   "outputs": [],
   "source": [
    "from sklearn.datasets import load_iris\n",
    "import numpy as np"
   ]
  },
  {
   "cell_type": "code",
   "execution_count": 26,
   "metadata": {},
   "outputs": [],
   "source": [
    "a = np.unique((rows[: , -1]))"
   ]
  },
  {
   "cell_type": "code",
   "execution_count": 29,
   "metadata": {},
   "outputs": [
    {
     "name": "stdout",
     "output_type": "stream",
     "text": [
      "0\n",
      "1\n",
      "2\n"
     ]
    }
   ],
   "source": [
    "for x in a:\n",
    "    print(int(x))"
   ]
  },
  {
   "cell_type": "code",
   "execution_count": 49,
   "metadata": {},
   "outputs": [],
   "source": [
    "new_r = []"
   ]
  },
  {
   "cell_type": "code",
   "execution_count": null,
   "metadata": {},
   "outputs": [],
   "source": []
  }
 ],
 "metadata": {
  "kernelspec": {
   "display_name": "Python 3",
   "language": "python",
   "name": "python3"
  },
  "language_info": {
   "codemirror_mode": {
    "name": "ipython",
    "version": 3
   },
   "file_extension": ".py",
   "mimetype": "text/x-python",
   "name": "python",
   "nbconvert_exporter": "python",
   "pygments_lexer": "ipython3",
   "version": "3.8.3"
  }
 },
 "nbformat": 4,
 "nbformat_minor": 4
}
