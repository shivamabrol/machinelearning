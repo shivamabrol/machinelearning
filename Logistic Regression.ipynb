{
 "cells": [
  {
   "cell_type": "code",
   "execution_count": 7,
   "metadata": {},
   "outputs": [],
   "source": [
    "import numpy as np\n",
    "from sklearn import preprocessing\n",
    "import pandas as pd"
   ]
  },
  {
   "cell_type": "code",
   "execution_count": 8,
   "metadata": {},
   "outputs": [],
   "source": [
    "from sklearn.datasets import load_breast_cancer"
   ]
  },
  {
   "cell_type": "code",
   "execution_count": 9,
   "metadata": {},
   "outputs": [],
   "source": [
    "import math"
   ]
  },
  {
   "cell_type": "code",
   "execution_count": 10,
   "metadata": {},
   "outputs": [],
   "source": [
    "data = load_breast_cancer()\n",
    "X = data.data\n",
    "Y = data.target"
   ]
  },
  {
   "cell_type": "code",
   "execution_count": 11,
   "metadata": {},
   "outputs": [],
   "source": [
    "X = np.append(X, np.ones(X.shape[0]).reshape(-1, 1), axis = 1)"
   ]
  },
  {
   "cell_type": "code",
   "execution_count": 12,
   "metadata": {},
   "outputs": [],
   "source": [
    "def sigmoid(gamma):\n",
    "    if gamma < 0:\n",
    "        sig = 1 - 1/(1 + math.exp(gamma))\n",
    "    else:\n",
    "        sig = 1/(1 + math.exp(-gamma))\n",
    "    if sig == 0:\n",
    "        sig = 0.0000000001\n",
    "    if sig == 1:\n",
    "        sig = 0.999999999\n",
    "    return sig"
   ]
  },
  {
   "cell_type": "code",
   "execution_count": 13,
   "metadata": {},
   "outputs": [],
   "source": [
    "def h(x, m):\n",
    "    z = np.dot(x,m)\n",
    "    \n",
    "    return sigmoid(z)\n",
    "    "
   ]
  },
  {
   "cell_type": "code",
   "execution_count": 14,
   "metadata": {},
   "outputs": [],
   "source": [
    "def step_gradient(X, Y, learning_rate, m):\n",
    "    m_slope = np.zeros(X.shape[1])\n",
    "    M = len(X)\n",
    "    for j in range(X.shape[1]):\n",
    "        for i in range(M):\n",
    "            m_slope[j] += (-1/M)* (Y[i] - h(X[i], m))*X[i][j]\n",
    "        m[j] = m[j] - learning_rate*m_slope[j]\n",
    "    return m"
   ]
  },
  {
   "cell_type": "code",
   "execution_count": 15,
   "metadata": {},
   "outputs": [],
   "source": [
    "def step_gradient_with_regularization(X, Y, learning_rate, m, lambda_val):\n",
    "    m_slope = np.zeros(X.shape[1])\n",
    "    M = len(X)\n",
    "    for j in range(X.shape[1]):\n",
    "        for i in range(M):\n",
    "            m_slope[j] += (-1/M)* ((Y[i] - h(X[i], m))*X[i][j] + 2*lambda_val*m[j])\n",
    "        m[j] = m[j] - learning_rate*m_slope[j]\n",
    "    return m"
   ]
  },
  {
   "cell_type": "code",
   "execution_count": 16,
   "metadata": {},
   "outputs": [],
   "source": [
    "def gd(X, Y, learning_rate, num_iterations):\n",
    "    m = np.zeros(X.shape[1])\n",
    "    for i in range(num_iterations):\n",
    "        m = step_gradient(X, Y, learning_rate, m)\n",
    "        print(i, \" Cost: \", cost(X, Y, m))\n",
    "    return m"
   ]
  },
  {
   "cell_type": "code",
   "execution_count": 17,
   "metadata": {},
   "outputs": [],
   "source": [
    "def cost(X, Y, m):\n",
    "    total_cost = 0\n",
    "    M = len(X)\n",
    "    for i in range(M):    \n",
    "        total_cost += (Y[i]*math.log(h(X[i], m)) + (1-Y[i])*math.log(1-h(X[i], m))) \n",
    "    return -total_cost"
   ]
  },
  {
   "cell_type": "code",
   "execution_count": 19,
   "metadata": {},
   "outputs": [],
   "source": [
    "def cost_with_regularization(X, Y, m, lambda_val):\n",
    "    total_cost = 0\n",
    "    M = len(X)\n",
    "    for i in range(M):    \n",
    "        total_cost += Y[i]*math.log(h(X[i], m)) + (1-Y[i])*math.log(1-h(X[i], m)) \n",
    "    return (-total_cost + lambda_val*(m.sum()))"
   ]
  },
  {
   "cell_type": "code",
   "execution_count": 20,
   "metadata": {},
   "outputs": [],
   "source": [
    "def run():\n",
    "    learning_rate = 0.00001\n",
    "    num_iterations = 100\n",
    "    m = gd(X, Y, learning_rate, num_iterations)\n",
    "    return m"
   ]
  },
  {
   "cell_type": "code",
   "execution_count": null,
   "metadata": {},
   "outputs": [
    {
     "name": "stdout",
     "output_type": "stream",
     "text": [
      "0  Cost:  391.93427163208594\n",
      "1  Cost:  390.312049895684\n",
      "2  Cost:  377.74662547238637\n",
      "3  Cost:  365.1868361166953\n",
      "4  Cost:  355.3205584091545\n",
      "5  Cost:  347.5528917128656\n",
      "6  Cost:  341.2752742912588\n",
      "7  Cost:  336.0459350393776\n",
      "8  Cost:  331.5679693828894\n",
      "9  Cost:  327.6461057951032\n",
      "10  Cost:  324.1502841916726\n",
      "11  Cost:  320.99121464800305\n",
      "12  Cost:  318.1054047273122\n",
      "13  Cost:  315.44617607088634\n",
      "14  Cost:  312.9781921626532\n",
      "15  Cost:  310.6740241184708\n",
      "16  Cost:  308.51192265138985\n",
      "17  Cost:  306.4743256498815\n",
      "18  Cost:  304.54682896838034\n",
      "19  Cost:  302.71745795954087\n",
      "20  Cost:  300.9761398269833\n",
      "21  Cost:  299.3143135268112\n",
      "22  Cost:  297.7246360588987\n",
      "23  Cost:  296.20075770688715\n",
      "24  Cost:  294.7371475183005\n",
      "25  Cost:  293.3289560083543\n",
      "26  Cost:  291.9719058628914\n",
      "27  Cost:  290.66220399244384\n",
      "28  Cost:  289.39647007243207\n",
      "29  Cost:  288.1716779590379\n",
      "30  Cost:  286.9851072666649\n",
      "31  Cost:  285.834303042474\n",
      "32  Cost:  284.71704195035505\n",
      "33  Cost:  283.63130373104997\n",
      "34  Cost:  282.5752469714289\n",
      "35  Cost:  281.5471884180614\n",
      "36  Cost:  280.54558522524366\n",
      "37  Cost:  279.5690196475158\n",
      "38  Cost:  278.616185780271\n",
      "39  Cost:  277.6858780255804\n",
      "40  Cost:  276.77698101865246\n",
      "41  Cost:  275.8884607968137\n",
      "42  Cost:  275.01935703022923\n",
      "43  Cost:  274.1687761637362\n",
      "44  Cost:  273.33588534367885\n",
      "45  Cost:  272.51990702365936\n",
      "46  Cost:  271.7201141595762\n",
      "47  Cost:  270.9358259179087\n",
      "48  Cost:  270.16640383247926\n",
      "49  Cost:  269.41124835430946\n",
      "50  Cost:  268.6697957470489\n",
      "51  Cost:  267.9415152870638\n",
      "52  Cost:  267.225906732832\n",
      "53  Cost:  266.52249803301527\n",
      "54  Cost:  265.83084324658876\n",
      "55  Cost:  265.15052065181374\n",
      "56  Cost:  264.4811310237736\n",
      "57  Cost:  263.8222960626936\n",
      "58  Cost:  263.17365695742694\n",
      "59  Cost:  262.53487307034595\n",
      "60  Cost:  261.90562073149755\n",
      "61  Cost:  261.2855921312796\n",
      "62  Cost:  260.67449430209894\n",
      "63  Cost:  260.07204818055817\n",
      "64  Cost:  259.4779877426201\n",
      "65  Cost:  258.89205920503036\n",
      "66  Cost:  258.31402028698534\n",
      "67  Cost:  257.74363952665954\n",
      "68  Cost:  257.18069564776835\n",
      "69  Cost:  256.6249769718246\n",
      "70  Cost:  256.07628087218103\n",
      "71  Cost:  255.53441326634504\n",
      "72  Cost:  254.99918814338045\n",
      "73  Cost:  254.47042712352626\n",
      "74  Cost:  253.94795904742824\n",
      "75  Cost:  253.43161959262372\n",
      "76  Cost:  252.92125091513557\n",
      "77  Cost:  252.41670131422714\n",
      "78  Cost:  251.9178249185456\n",
      "79  Cost:  251.42448139203077\n",
      "80  Cost:  250.9365356581207\n",
      "81  Cost:  250.45385764089676\n",
      "82  Cost:  249.97632202194254\n",
      "83  Cost:  249.50380801177582\n",
      "84  Cost:  249.03619913482862\n",
      "85  Cost:  248.5733830270107\n",
      "86  Cost:  248.1152512449953\n",
      "87  Cost:  247.6616990864126\n",
      "88  Cost:  247.2126254202171\n",
      "89  Cost:  246.7679325265379\n",
      "90  Cost:  246.32752594539457\n",
      "91  Cost:  245.8913143336865\n",
      "92  Cost:  245.45920932992334\n",
      "93  Cost:  245.03112542619724\n",
      "94  Cost:  244.60697984693962\n",
      "95  Cost:  244.18669243403173\n",
      "96  Cost:  243.77018553787838\n"
     ]
    }
   ],
   "source": [
    "m = run()"
   ]
  },
  {
   "cell_type": "code",
   "execution_count": null,
   "metadata": {},
   "outputs": [],
   "source": []
  }
 ],
 "metadata": {
  "kernelspec": {
   "display_name": "Python 3",
   "language": "python",
   "name": "python3"
  },
  "language_info": {
   "codemirror_mode": {
    "name": "ipython",
    "version": 3
   },
   "file_extension": ".py",
   "mimetype": "text/x-python",
   "name": "python",
   "nbconvert_exporter": "python",
   "pygments_lexer": "ipython3",
   "version": "3.8.3"
  }
 },
 "nbformat": 4,
 "nbformat_minor": 2
}
