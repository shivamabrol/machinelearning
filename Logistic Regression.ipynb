{
 "cells": [
  {
   "cell_type": "code",
   "execution_count": 2,
   "metadata": {},
   "outputs": [],
   "source": [
    "import numpy as np\n",
    "from sklearn import preprocessing\n",
    "import pandas as pd"
   ]
  },
  {
   "cell_type": "code",
   "execution_count": 3,
   "metadata": {},
   "outputs": [],
   "source": [
    "from sklearn.datasets import load_breast_cancer"
   ]
  },
  {
   "cell_type": "code",
   "execution_count": 4,
   "metadata": {},
   "outputs": [],
   "source": [
    "import math"
   ]
  },
  {
   "cell_type": "code",
   "execution_count": 6,
   "metadata": {},
   "outputs": [],
   "source": [
    "data = load_breast_cancer()\n",
    "X = data.data\n",
    "Y = data.target"
   ]
  },
  {
   "cell_type": "code",
   "execution_count": 9,
   "metadata": {},
   "outputs": [],
   "source": [
    "X = np.append(X, np.ones(X.shape[0]).reshape(-1, 1), axis = 1)"
   ]
  },
  {
   "cell_type": "code",
   "execution_count": 68,
   "metadata": {},
   "outputs": [],
   "source": [
    "def sigmoid(gamma):\n",
    "    if gamma < 0:\n",
    "        sig = 1 - 1/(1 + math.exp(gamma))\n",
    "    else:\n",
    "        sig = 1/(1 + math.exp(-gamma))\n",
    "    if sig == 0:\n",
    "        sig = 0.0000000001\n",
    "    if sig == 1:\n",
    "        sig = 0.999999999\n",
    "    return sig"
   ]
  },
  {
   "cell_type": "code",
   "execution_count": 60,
   "metadata": {},
   "outputs": [],
   "source": [
    "def h(x, m):\n",
    "    z = np.dot(x,m)\n",
    "    \n",
    "    return sigmoid(z)\n",
    "    "
   ]
  },
  {
   "cell_type": "code",
   "execution_count": 61,
   "metadata": {},
   "outputs": [],
   "source": [
    "def step_gradient(X, Y, learning_rate, m):\n",
    "    m_slope = np.zeros(X.shape[1])\n",
    "    M = len(X)\n",
    "    for j in range(X.shape[1]):\n",
    "        for i in range(M):\n",
    "            m_slope[j] += (-1/M)* (Y[i] - h(X[i], m))*X[i][j]\n",
    "        m[j] = m[j] - learning_rate*m_slope[j]\n",
    "    return m"
   ]
  },
  {
   "cell_type": "code",
   "execution_count": 62,
   "metadata": {},
   "outputs": [],
   "source": [
    "def gd(X, Y, learning_rate, num_iterations):\n",
    "    m = np.zeros(X.shape[1])\n",
    "    for i in range(num_iterations):\n",
    "        m = step_gradient(X, Y, learning_rate, m)\n",
    "        print(i, \" Cost: \", cost(X, Y, m))\n",
    "    return m"
   ]
  },
  {
   "cell_type": "code",
   "execution_count": 86,
   "metadata": {},
   "outputs": [],
   "source": [
    "def cost(X, Y, m):\n",
    "    total_cost = 0\n",
    "    M = len(X)\n",
    "    for i in range(M):    \n",
    "        total_cost += (Y[i]*math.log(h(X[i], m)) + (1-Y[i])*math.log(1-h(X[i], m))) \n",
    "    return -total_cost"
   ]
  },
  {
   "cell_type": "code",
   "execution_count": 95,
   "metadata": {},
   "outputs": [],
   "source": [
    "def run():\n",
    "    learning_rate = 0.00001\n",
    "    num_iterations = 100\n",
    "    m = gd(X, Y, learning_rate, num_iterations)\n",
    "    return m"
   ]
  },
  {
   "cell_type": "code",
   "execution_count": 93,
   "metadata": {},
   "outputs": [
    {
     "name": "stdout",
     "output_type": "stream",
     "text": [
      "0  Cost:  393.82686643260786\n",
      "1  Cost:  409.0366316527009\n",
      "2  Cost:  500.61757060654827\n",
      "3  Cost:  385.86431625473716\n",
      "4  Cost:  357.36715161978293\n",
      "5  Cost:  323.6705347985187\n",
      "6  Cost:  305.1721163952362\n",
      "7  Cost:  295.60284935592676\n",
      "8  Cost:  290.2883308825127\n",
      "9  Cost:  286.8708892515141\n"
     ]
    }
   ],
   "source": [
    "m = run()"
   ]
  },
  {
   "cell_type": "code",
   "execution_count": null,
   "metadata": {},
   "outputs": [],
   "source": []
  }
 ],
 "metadata": {
  "kernelspec": {
   "display_name": "Python 3",
   "language": "python",
   "name": "python3"
  },
  "language_info": {
   "codemirror_mode": {
    "name": "ipython",
    "version": 3
   },
   "file_extension": ".py",
   "mimetype": "text/x-python",
   "name": "python",
   "nbconvert_exporter": "python",
   "pygments_lexer": "ipython3",
   "version": "3.8.3"
  }
 },
 "nbformat": 4,
 "nbformat_minor": 2
}
